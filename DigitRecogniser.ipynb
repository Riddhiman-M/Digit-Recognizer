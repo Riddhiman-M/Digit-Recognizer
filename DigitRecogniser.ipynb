{
  "nbformat": 4,
  "nbformat_minor": 0,
  "metadata": {
    "colab": {
      "provenance": [],
      "authorship_tag": "ABX9TyOUg75+JH1NouScoNT+9daZ",
      "include_colab_link": true
    },
    "kernelspec": {
      "name": "python3",
      "display_name": "Python 3"
    },
    "language_info": {
      "name": "python"
    }
  },
  "cells": [
    {
      "cell_type": "markdown",
      "metadata": {
        "id": "view-in-github",
        "colab_type": "text"
      },
      "source": [
        "<a href=\"https://colab.research.google.com/github/Riddhiman-M/Digit-Recognizer/blob/main/DigitRecogniser.ipynb\" target=\"_parent\"><img src=\"https://colab.research.google.com/assets/colab-badge.svg\" alt=\"Open In Colab\"/></a>"
      ]
    },
    {
      "cell_type": "code",
      "execution_count": 1,
      "metadata": {
        "id": "-DLRkrD5wRQr"
      },
      "outputs": [],
      "source": [
        "import numpy as np\n",
        "import pandas as pd\n",
        "from matplotlib import pyplot as plt\n",
        "\n",
        "from PIL import Image as im"
      ]
    },
    {
      "cell_type": "code",
      "source": [
        "!pip install mnist\n",
        "import mnist\n",
        "\n",
        "x_train = mnist.train_images()\n",
        "y_train = mnist.train_labels()\n",
        "\n",
        "x_test, y_test = mnist.test_images(), mnist.test_labels()"
      ],
      "metadata": {
        "id": "fdDf0kGmEFR1",
        "colab": {
          "base_uri": "https://localhost:8080/"
        },
        "outputId": "61dd0e26-6ec2-44a8-c0e8-be30ad2c3e55"
      },
      "execution_count": 2,
      "outputs": [
        {
          "output_type": "stream",
          "name": "stdout",
          "text": [
            "Looking in indexes: https://pypi.org/simple, https://us-python.pkg.dev/colab-wheels/public/simple/\n",
            "Collecting mnist\n",
            "  Downloading mnist-0.2.2-py2.py3-none-any.whl (3.5 kB)\n",
            "Requirement already satisfied: numpy in /usr/local/lib/python3.8/dist-packages (from mnist) (1.21.6)\n",
            "Installing collected packages: mnist\n",
            "Successfully installed mnist-0.2.2\n"
          ]
        }
      ]
    },
    {
      "cell_type": "markdown",
      "source": [
        "## Visualize Images"
      ],
      "metadata": {
        "id": "5wrpV99t9wGc"
      }
    },
    {
      "cell_type": "code",
      "source": [
        "def print_img(test):\n",
        "  l = min(len(test[0]), 10)\n",
        "\n",
        "  plt.figure()\n",
        "  f, plots = plt.subplots(l, 1)\n",
        "  \n",
        "  for i in range(l):\n",
        "    plots[i].imshow(test[i], cmap='gray')"
      ],
      "metadata": {
        "id": "mHFf3BYL6vdT"
      },
      "execution_count": 3,
      "outputs": []
    },
    {
      "cell_type": "markdown",
      "source": [
        "## Training data visualisation"
      ],
      "metadata": {
        "id": "uLrRpWFEAXna"
      }
    },
    {
      "cell_type": "code",
      "source": [
        "print(x_train.shape)\n",
        "\n",
        "print_img(x_train)\n"
      ],
      "metadata": {
        "colab": {
          "base_uri": "https://localhost:8080/",
          "height": 305
        },
        "id": "Jm0qD1UdFTGa",
        "outputId": "52a1e36e-1b2a-49cc-e04b-a180f925133c"
      },
      "execution_count": 4,
      "outputs": [
        {
          "output_type": "stream",
          "name": "stdout",
          "text": [
            "(60000, 28, 28)\n"
          ]
        },
        {
          "output_type": "display_data",
          "data": {
            "text/plain": [
              "<Figure size 432x288 with 0 Axes>"
            ]
          },
          "metadata": {}
        },
        {
          "output_type": "display_data",
          "data": {
            "text/plain": [
              "<Figure size 432x288 with 10 Axes>"
            ],
            "image/png": "[encoded data removed]"
          },
          "metadata": {
            "needs_background": "light"
          }
        }
      ]
    },
    {
      "cell_type": "code",
      "source": [
        "## Using Loaded Dataset\n",
        "\n",
        "# train = pd.read_csv(\"mnist_train.csv\")\n",
        "# test = pd.read_csv(\"mnist_test.csv\")\n",
        "\n",
        "# # print(train.loc[[0]])\n",
        "\n",
        "# labels = train['label']\n",
        "# train = train.drop(['label'], axis=1)\n",
        "\n",
        "# five = np.asarray(train.loc[[7]]).astype(int)\n",
        "# five = np.reshape(five, (28,28))\n",
        "\n",
        "# # print(five)\n",
        "\n",
        "# # img = im.fromarray(five)\n",
        "# # img.save('pic1.png')\n",
        "# # img.show()\n",
        "\n",
        "# plt.imshow(five, cmap='gray')"
      ],
      "metadata": {
        "id": "sVJEEjg7yFIP"
      },
      "execution_count": 5,
      "outputs": []
    },
    {
      "cell_type": "markdown",
      "source": [
        "## Data Pre-processing for using ML Models"
      ],
      "metadata": {
        "id": "uPV_wktQ9Q0y"
      }
    },
    {
      "cell_type": "code",
      "source": [
        "from sklearn.metrics import accuracy_score, classification_report\n",
        "\n",
        "num, rows, cols = x_train.shape\n",
        "x_train_2d = x_train.reshape(num, rows*cols)\n",
        "\n",
        "num, rows, cols = x_test.shape\n",
        "x_test_2d = x_test.reshape(num, rows*cols)\n"
      ],
      "metadata": {
        "id": "MF2OfapE9GxZ"
      },
      "execution_count": 7,
      "outputs": []
    },
    {
      "cell_type": "markdown",
      "source": [
        "## Random Forest"
      ],
      "metadata": {
        "id": "5jp-jTF19Zrk"
      }
    },
    {
      "cell_type": "code",
      "source": [
        "from sklearn.metrics import accuracy_score\n",
        "from sklearn.ensemble import RandomForestClassifier\n",
        "\n",
        "num, rows, cols = x_train.shape\n",
        "x_train_2d = x_train.reshape(num, rows*cols)\n",
        "\n",
        "num, rows, cols = x_test.shape\n",
        "x_test_2d = x_test.reshape(num, rows*cols)\n",
        "\n",
        "model = RandomForestClassifier()\n",
        "model.fit(x_train_2d, y_train)"
      ],
      "metadata": {
        "colab": {
          "base_uri": "https://localhost:8080/"
        },
        "id": "35WQ-gAu2tr_",
        "outputId": "a333ab8c-43c5-4d8c-9f15-ede5d62dc230"
      },
      "execution_count": 8,
      "outputs": [
        {
          "output_type": "execute_result",
          "data": {
            "text/plain": [
              "RandomForestClassifier()"
            ]
          },
          "metadata": {},
          "execution_count": 8
        }
      ]
    },
    {
      "cell_type": "code",
      "source": [
        "y_out = model.predict(x_test_2d)\n",
        "\n",
        "print(y_out[:10])\n",
        "print(accuracy_score(y_test, y_out))\n",
        "\n",
        "print_img(x_test)"
      ],
      "metadata": {
        "colab": {
          "base_uri": "https://localhost:8080/",
          "height": 323
        },
        "id": "Q-hM9EWa6F_i",
        "outputId": "9f651702-63b5-4801-eeb9-e31f646e3e2c"
      },
      "execution_count": 9,
      "outputs": [
        {
          "output_type": "stream",
          "name": "stdout",
          "text": [
            "[7 2 1 0 4 1 4 9 5 9]\n",
            "0.9691\n"
          ]
        },
        {
          "output_type": "display_data",
          "data": {
            "text/plain": [
              "<Figure size 432x288 with 0 Axes>"
            ]
          },
          "metadata": {}
        },
        {
          "output_type": "display_data",
          "data": {
            "text/plain": [
              "<Figure size 432x288 with 10 Axes>"
            ],
            "image/png": "[encoded data removed]"
          },
          "metadata": {
            "needs_background": "light"
          }
        }
      ]
    },
    {
      "cell_type": "markdown",
      "source": [
        "## K Nearest Neighbors"
      ],
      "metadata": {
        "id": "uPNtWK8xAOj5"
      }
    },
    {
      "cell_type": "code",
      "source": [
        "from sklearn.neighbors import KNeighborsClassifier\n",
        "\n",
        "knn = KNeighborsClassifier(n_neighbors = 7)\n",
        "knn.fit(x_train_2d, y_train)\n",
        "\n",
        "y_knn = knn.predict(x_test_2d)\n",
        "\n",
        "print(y_knn)\n",
        "print(accuracy_score(y_test, y_knn))"
      ],
      "metadata": {
        "colab": {
          "base_uri": "https://localhost:8080/"
        },
        "id": "LZ-iFEbw89_q",
        "outputId": "fdc96e88-c076-4003-e20e-1f99ea3a7bcb"
      },
      "execution_count": 10,
      "outputs": [
        {
          "output_type": "stream",
          "name": "stdout",
          "text": [
            "[7 2 1 ... 4 5 6]\n",
            "0.9694\n"
          ]
        }
      ]
    },
    {
      "cell_type": "code",
      "source": [
        "# no. of neighbors = 7 was found to be the optimum out of 4-5 tests\n",
        "\n",
        "print(classification_report(y_test, y_knn))"
      ],
      "metadata": {
        "colab": {
          "base_uri": "https://localhost:8080/"
        },
        "id": "0S1D_wb3_rcC",
        "outputId": "cf9f6554-4fae-4c73-8205-5579454ebc6e"
      },
      "execution_count": 11,
      "outputs": [
        {
          "output_type": "stream",
          "name": "stdout",
          "text": [
            "              precision    recall  f1-score   support\n",
            "\n",
            "           0       0.97      0.99      0.98       980\n",
            "           1       0.95      1.00      0.97      1135\n",
            "           2       0.98      0.96      0.97      1032\n",
            "           3       0.97      0.97      0.97      1010\n",
            "           4       0.98      0.96      0.97       982\n",
            "           5       0.97      0.97      0.97       892\n",
            "           6       0.98      0.99      0.98       958\n",
            "           7       0.96      0.96      0.96      1028\n",
            "           8       0.99      0.94      0.96       974\n",
            "           9       0.96      0.95      0.96      1009\n",
            "\n",
            "    accuracy                           0.97     10000\n",
            "   macro avg       0.97      0.97      0.97     10000\n",
            "weighted avg       0.97      0.97      0.97     10000\n",
            "\n"
          ]
        }
      ]
    },
    {
      "cell_type": "markdown",
      "source": [
        "## Deep-Learning Based Model"
      ],
      "metadata": {
        "id": "ybHJPKnHDsv4"
      }
    },
    {
      "cell_type": "code",
      "source": [
        "from tensorflow import keras\n",
        "from keras import layers\n",
        "\n",
        "length = rows*cols\n",
        "\n",
        "model = keras.Sequential([ layers.Dense(units = 512, activation = 'relu', input_shape=[length]),\n",
        "                           layers.Dropout(0.3),\n",
        "                           layers.Dense(units = 128, activation = 'relu'),\n",
        "                           layers.Dropout(0.3),\n",
        "                           layers.Dense(units = 10, activation = 'softmax')])"
      ],
      "metadata": {
        "id": "POzZeAU86B3I"
      },
      "execution_count": 26,
      "outputs": []
    },
    {
      "cell_type": "code",
      "source": [
        "from keras.utils import to_categorical\n",
        "\n",
        "Y_train = to_categorical(y_train, num_classes=10)\n",
        "Y_test = to_categorical(y_test, num_classes=10)\n",
        "\n",
        "print(Y_train[:3])\n",
        "print(y_train[:3])"
      ],
      "metadata": {
        "colab": {
          "base_uri": "https://localhost:8080/"
        },
        "id": "WAmgqeo6I2Yi",
        "outputId": "19cdc16b-5b66-452e-de21-771a5b8b3d37"
      },
      "execution_count": 14,
      "outputs": [
        {
          "output_type": "stream",
          "name": "stdout",
          "text": [
            "[[0. 0. 0. 0. 0. 1. 0. 0. 0. 0.]\n",
            " [1. 0. 0. 0. 0. 0. 0. 0. 0. 0.]\n",
            " [0. 0. 0. 0. 1. 0. 0. 0. 0. 0.]]\n",
            "[5 0 4]\n"
          ]
        }
      ]
    },
    {
      "cell_type": "code",
      "source": [
        "model.compile(optimizer='adam',\n",
        "              loss = 'categorical_crossentropy',\n",
        "              metrics = ['accuracy'])\n",
        "\n",
        "model.fit(x_train_2d, Y_train,\n",
        "          batch_size=100,\n",
        "          epochs=30,\n",
        "          verbose = 2)\n"
      ],
      "metadata": {
        "colab": {
          "base_uri": "https://localhost:8080/"
        },
        "id": "AmirByXrJpIk",
        "outputId": "2dcaa269-6259-484f-db2a-d935cdf5e6d5"
      },
      "execution_count": 28,
      "outputs": [
        {
          "output_type": "stream",
          "name": "stdout",
          "text": [
            "Epoch 1/30\n",
            "600/600 - 9s - loss: 0.1615 - accuracy: 0.9632 - 9s/epoch - 15ms/step\n",
            "Epoch 2/30\n",
            "600/600 - 8s - loss: 0.1496 - accuracy: 0.9644 - 8s/epoch - 13ms/step\n",
            "Epoch 3/30\n",
            "600/600 - 8s - loss: 0.1448 - accuracy: 0.9643 - 8s/epoch - 13ms/step\n",
            "Epoch 4/30\n",
            "600/600 - 7s - loss: 0.1472 - accuracy: 0.9634 - 7s/epoch - 12ms/step\n",
            "Epoch 5/30\n",
            "600/600 - 7s - loss: 0.1465 - accuracy: 0.9638 - 7s/epoch - 12ms/step\n",
            "Epoch 6/30\n",
            "600/600 - 7s - loss: 0.1309 - accuracy: 0.9662 - 7s/epoch - 12ms/step\n",
            "Epoch 7/30\n",
            "600/600 - 7s - loss: 0.1334 - accuracy: 0.9664 - 7s/epoch - 12ms/step\n",
            "Epoch 8/30\n",
            "600/600 - 7s - loss: 0.1290 - accuracy: 0.9672 - 7s/epoch - 11ms/step\n",
            "Epoch 9/30\n",
            "600/600 - 7s - loss: 0.1286 - accuracy: 0.9682 - 7s/epoch - 12ms/step\n",
            "Epoch 10/30\n",
            "600/600 - 7s - loss: 0.1210 - accuracy: 0.9685 - 7s/epoch - 12ms/step\n",
            "Epoch 11/30\n",
            "600/600 - 7s - loss: 0.1296 - accuracy: 0.9678 - 7s/epoch - 12ms/step\n",
            "Epoch 12/30\n",
            "600/600 - 7s - loss: 0.1336 - accuracy: 0.9678 - 7s/epoch - 12ms/step\n",
            "Epoch 13/30\n",
            "600/600 - 7s - loss: 0.1204 - accuracy: 0.9705 - 7s/epoch - 11ms/step\n",
            "Epoch 14/30\n",
            "600/600 - 7s - loss: 0.1310 - accuracy: 0.9682 - 7s/epoch - 11ms/step\n",
            "Epoch 15/30\n",
            "600/600 - 6s - loss: 0.1240 - accuracy: 0.9700 - 6s/epoch - 11ms/step\n",
            "Epoch 16/30\n",
            "600/600 - 6s - loss: 0.1214 - accuracy: 0.9706 - 6s/epoch - 10ms/step\n",
            "Epoch 17/30\n",
            "600/600 - 6s - loss: 0.1255 - accuracy: 0.9704 - 6s/epoch - 10ms/step\n",
            "Epoch 18/30\n",
            "600/600 - 6s - loss: 0.1229 - accuracy: 0.9696 - 6s/epoch - 11ms/step\n",
            "Epoch 19/30\n",
            "600/600 - 7s - loss: 0.1276 - accuracy: 0.9692 - 7s/epoch - 12ms/step\n",
            "Epoch 20/30\n",
            "600/600 - 7s - loss: 0.1292 - accuracy: 0.9698 - 7s/epoch - 12ms/step\n",
            "Epoch 21/30\n",
            "600/600 - 7s - loss: 0.1271 - accuracy: 0.9714 - 7s/epoch - 12ms/step\n",
            "Epoch 22/30\n",
            "600/600 - 7s - loss: 0.1189 - accuracy: 0.9717 - 7s/epoch - 12ms/step\n",
            "Epoch 23/30\n",
            "600/600 - 7s - loss: 0.1082 - accuracy: 0.9746 - 7s/epoch - 12ms/step\n",
            "Epoch 24/30\n",
            "600/600 - 7s - loss: 0.1206 - accuracy: 0.9725 - 7s/epoch - 12ms/step\n",
            "Epoch 25/30\n",
            "600/600 - 7s - loss: 0.1168 - accuracy: 0.9716 - 7s/epoch - 12ms/step\n",
            "Epoch 26/30\n",
            "600/600 - 7s - loss: 0.1170 - accuracy: 0.9710 - 7s/epoch - 11ms/step\n",
            "Epoch 27/30\n",
            "600/600 - 7s - loss: 0.1076 - accuracy: 0.9733 - 7s/epoch - 11ms/step\n",
            "Epoch 28/30\n",
            "600/600 - 7s - loss: 0.1110 - accuracy: 0.9739 - 7s/epoch - 11ms/step\n",
            "Epoch 29/30\n",
            "600/600 - 7s - loss: 0.1123 - accuracy: 0.9744 - 7s/epoch - 11ms/step\n",
            "Epoch 30/30\n",
            "600/600 - 7s - loss: 0.1212 - accuracy: 0.9714 - 7s/epoch - 12ms/step\n"
          ]
        },
        {
          "output_type": "execute_result",
          "data": {
            "text/plain": [
              "<keras.callbacks.History at 0x7fe8a9741880>"
            ]
          },
          "metadata": {},
          "execution_count": 28
        }
      ]
    },
    {
      "cell_type": "code",
      "source": [
        "y_pred = model.predict(x_test_2d)\n",
        "\n",
        "y_out_DL = np.argmax(y_pred, axis=1)\n",
        "print(y_out_DL)\n",
        "\n",
        "print('% Accuracy:', 100*accuracy_score(y_test, y_out_DL))"
      ],
      "metadata": {
        "colab": {
          "base_uri": "https://localhost:8080/"
        },
        "id": "qxA6KoLyNIze",
        "outputId": "58c87bbd-2df1-4c6e-975a-5a3177592beb"
      },
      "execution_count": 30,
      "outputs": [
        {
          "output_type": "stream",
          "name": "stdout",
          "text": [
            "313/313 [==============================] - 2s 8ms/step\n",
            "[7 2 1 ... 4 5 6]\n",
            "% Accuracy: 97.75\n"
          ]
        }
      ]
    }
  ]
}